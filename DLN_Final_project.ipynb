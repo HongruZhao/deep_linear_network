{
  "nbformat": 4,
  "nbformat_minor": 0,
  "metadata": {
    "colab": {
      "provenance": []
    },
    "kernelspec": {
      "name": "python3",
      "display_name": "Python 3"
    },
    "language_info": {
      "name": "python"
    }
  },
  "cells": [
    {
      "cell_type": "markdown",
      "source": [
        "# 0. import"
      ],
      "metadata": {
        "id": "ixCXg3pnEQLV"
      }
    },
    {
      "cell_type": "code",
      "execution_count": null,
      "metadata": {
        "id": "-Gpg83EgEL0O"
      },
      "outputs": [],
      "source": [
        "# basic torch modules, classes and functions\n",
        "import torch\n",
        "from torch import nn, optim\n",
        "import torch.nn.functional as F\n",
        "from torch.utils.data import Dataset, DataLoader, Subset\n",
        "\n",
        "# image datasets and pre-processing\n",
        "import torchvision\n",
        "from torchvision import datasets\n",
        "import torchvision.transforms as transforms\n",
        "\n",
        "# other utils libraries\n",
        "import time\n",
        "import numpy as np\n",
        "import matplotlib.pyplot as plt\n",
        "\n",
        "# for some math function such as sqrt\n",
        "import math"
      ]
    },
    {
      "cell_type": "code",
      "source": [
        "device = 'cuda' if torch.cuda.is_available() else 'cpu'\n",
        "print(device)"
      ],
      "metadata": {
        "colab": {
          "base_uri": "https://localhost:8080/"
        },
        "id": "KjhpIpmUEaNU",
        "outputId": "458dc0a6-718a-46ff-9fbb-29a2aadcecb9"
      },
      "execution_count": null,
      "outputs": [
        {
          "output_type": "stream",
          "name": "stdout",
          "text": [
            "cpu\n"
          ]
        }
      ]
    },
    {
      "cell_type": "markdown",
      "source": [
        "# 1. data set simulation"
      ],
      "metadata": {
        "id": "CrHjDT-IEe5L"
      }
    },
    {
      "cell_type": "code",
      "source": [
        "class gen_sample_Tran(Dataset):\n",
        "    def __init__(self, m, w,sigma):\n",
        "      self.m = m\n",
        "      self.x = torch.randn(m,w.size(dim=1) )\n",
        "      self.y = torch.mm(self.x, torch.transpose(w, 0, 1) )+sigma * torch.randn(m,w.size(dim=0))\n",
        "\n",
        "    def __len__(self):\n",
        "        return self.m"
      ],
      "metadata": {
        "id": "NcRjqs0oEeIO"
      },
      "execution_count": null,
      "outputs": []
    },
    {
      "cell_type": "markdown",
      "source": [
        "# 2.1. convex model"
      ],
      "metadata": {
        "id": "-GZAG6KrEoNB"
      }
    },
    {
      "cell_type": "code",
      "source": [
        "def gen_layer_1(w_0):\n",
        "#hid_size is a vector of integers indicate dimension of each Linear\n",
        "    mymodel = nn.Sequential(nn.Linear(w_0.size(dim =1), w_0.size(dim =0) ,bias = False))\n",
        "    mymodel[0].weight = torch.nn.Parameter(w_0)\n",
        "    return mymodel"
      ],
      "metadata": {
        "id": "UI4Ez7Q0EuKK"
      },
      "execution_count": null,
      "outputs": []
    },
    {
      "cell_type": "markdown",
      "source": [
        "# 2.2. DLN model"
      ],
      "metadata": {
        "id": "k5CF1VckEzPd"
      }
    },
    {
      "cell_type": "code",
      "source": [
        "class Net_DLN(nn.Module):\n",
        "    def __init__(self, Layers):\n",
        "        super(Net_DLN, self).__init__()\n",
        "        self.hidden = nn.ModuleList()\n",
        "        for input_size, output_size in zip (Layers, Layers[1:]):\n",
        "          self.hidden.append(nn.Linear(input_size, output_size,bias = False))\n",
        "        self.initialize_weights()\n",
        "\n",
        "    def forward(self, activation):\n",
        "        L=len(self.hidden)\n",
        "        for (l, linear_transform) in zip(range(L),self.hidden):\n",
        "          if l<L-1:\n",
        "#            activation = torch.relu(linear_transform(activation))\n",
        "            activation =  linear_transform(activation)\n",
        "          else:\n",
        "            activation = linear_transform(activation)\n",
        "        return activation\n",
        "\n",
        "    def initialize_weights(self):\n",
        "        for m in self.modules():\n",
        "          if isinstance(m, nn.Linear):\n",
        "            nn.init.normal_(m.weight)\n",
        "\n",
        "\n",
        "class Net_DLN_orth(nn.Module):\n",
        "    def __init__(self, Layers):\n",
        "        super(Net_DLN_orth, self).__init__()\n",
        "        self.hidden = nn.ModuleList()\n",
        "        for input_size, output_size in zip (Layers, Layers[1:]):\n",
        "          self.hidden.append(nn.Linear(input_size, output_size,bias = False))\n",
        "        self.initialize_weights(Layers)\n",
        "\n",
        "    def forward(self, activation):\n",
        "        L=len(self.hidden)\n",
        "        for (l, linear_transform) in zip(range(L),self.hidden):\n",
        "          if l<L-1:\n",
        "#            activation = torch.relu(linear_transform(activation))\n",
        "            activation =  linear_transform(activation)\n",
        "          else:\n",
        "            activation = linear_transform(activation)\n",
        "        return activation\n",
        "\n",
        "    def initialize_weights(self, Layers):\n",
        "        index0 = np.argmax(Layers)\n",
        "        i = 1\n",
        "        for m in self.modules():\n",
        "          if isinstance( m, nn.Linear ):\n",
        "            if i<=index0 :\n",
        "              gain = math.sqrt(Layers[i])\n",
        "            else :\n",
        "              gain = math.sqrt(Layers[i-1])\n",
        "            nn.init.orthogonal_( m.weight,  gain = gain )\n",
        "            i = i + 1"
      ],
      "metadata": {
        "id": "-8o9ri8iE3i-"
      },
      "execution_count": null,
      "outputs": []
    },
    {
      "cell_type": "markdown",
      "source": [
        "# 3.1 loss function"
      ],
      "metadata": {
        "id": "fLVnEh6hE9Fo"
      }
    },
    {
      "cell_type": "code",
      "source": [
        "def l2_loss(y,y_pred ):\n",
        "  return torch.sum(torch.square(y-y_pred)) /2.0"
      ],
      "metadata": {
        "id": "O98O0__qFBdf"
      },
      "execution_count": null,
      "outputs": []
    },
    {
      "cell_type": "markdown",
      "source": [
        "# 5. Full code and plot"
      ],
      "metadata": {
        "id": "kXkltX6DFX7k"
      }
    },
    {
      "cell_type": "code",
      "source": [
        "# generate minimizer w\n",
        "w=torch.randn(10,128)\n",
        "\n",
        "####### the size of hidden layer\n",
        "nnn=128\n",
        "hid_size=[nnn, nnn, nnn  ]\n",
        "\n",
        "# the size of all layers and other constant\n",
        "Layers = np.append(hid_size, w.size(dim=0))\n",
        "N=len(Layers)\n",
        "a_N= 1/math.sqrt(np.prod(Layers))\n",
        "Layers = np.append(w.size(dim=1), Layers)\n",
        "print(Layers)\n",
        "\n",
        "####### number of sample\n",
        "m=1000\n",
        "\n",
        "# generate data set\n",
        "mydata_tran = gen_sample_Tran(m=m, w = w , sigma= 1)\n",
        "print(f\"condition number of X: {torch.linalg.cond(mydata_tran.x)}\")\n",
        "\n",
        "# generate DLN\n",
        "print(device)\n",
        "#model_DLN = Net_DLN(Layers).to(device)\n",
        "#model_DLN = Net_DLN(Layers)\n",
        "model_DLN = Net_DLN_orth(Layers)\n",
        "\n",
        "print(f\"DLN: {model_DLN}\")\n",
        "# initialization for convex problem\n",
        "w_0 = model_DLN(torch.eye( w.size(dim=1) ))*a_N\n",
        "# generate convex model\n",
        "model_convex = gen_layer_1( torch.transpose(w_0, 0, 1) )\n",
        "\n",
        "print(f\"convex model: {model_convex}\")\n",
        "\n",
        "\n",
        "\n",
        "# learning rate\n",
        "eta_max = w.size(dim=0)/(N *torch.linalg.norm(mydata_tran.x,ord=2)*torch.linalg.norm(mydata_tran.x,ord=2))\n",
        "print(f\"eta_max: {eta_max}\")\n",
        "\n",
        "eta=eta_max/2\n",
        "print(f\"eta: {eta}\")\n",
        "eta_star=eta*N/w.size(dim =0)\n",
        "\n",
        "optimizer_DLN = optim.SGD(model_DLN.parameters(), lr = eta )\n",
        "optimizer_convex = optim.SGD(model_convex.parameters(), lr = eta_star )\n",
        "\n"
      ],
      "metadata": {
        "colab": {
          "base_uri": "https://localhost:8080/"
        },
        "id": "RAMGS2ieFZzl",
        "outputId": "786fbe24-8bd5-47b1-d823-d4351d24e21a"
      },
      "execution_count": null,
      "outputs": [
        {
          "output_type": "stream",
          "name": "stdout",
          "text": [
            "[128 128 128 128  10]\n",
            "condition number of X: 2.024534225463867\n",
            "cpu\n",
            "DLN: Net_DLN_orth(\n",
            "  (hidden): ModuleList(\n",
            "    (0): Linear(in_features=128, out_features=128, bias=False)\n",
            "    (1): Linear(in_features=128, out_features=128, bias=False)\n",
            "    (2): Linear(in_features=128, out_features=128, bias=False)\n",
            "    (3): Linear(in_features=128, out_features=10, bias=False)\n",
            "  )\n",
            ")\n",
            "convex model: Sequential(\n",
            "  (0): Linear(in_features=128, out_features=10, bias=False)\n",
            ")\n",
            "eta_max: 0.0014032493345439434\n",
            "eta: 0.0007016246672719717\n"
          ]
        }
      ]
    },
    {
      "cell_type": "markdown",
      "source": [],
      "metadata": {
        "id": "S9elld1KFfOL"
      }
    },
    {
      "cell_type": "code",
      "source": [
        "#for tensorboard plot\n",
        "#from torch.utils.tensorboard import SummaryWriter\n",
        "#%load_ext tensorboard\n",
        "#log_dir = 'logs1'\n",
        "#writer = SummaryWriter(log_dir)\n",
        "nepochs = 100\n",
        "DLN_loss = np.zeros(nepochs)\n",
        "Convex_loss = np.zeros(nepochs)\n",
        "\n",
        "for epoch in range(nepochs):\n",
        "  yhat_tran = model_DLN( mydata_tran.x )*a_N\n",
        "  myloss = l2_loss(yhat_tran, mydata_tran.y)\n",
        "  DLN_loss[epoch] = myloss\n",
        "    # optimizatin\n",
        "  optimizer_DLN.zero_grad() # zero out gradient\n",
        "  myloss.backward() # back propagation\n",
        "  optimizer_DLN.step() # updata parameters\n",
        "#  print(myloss)\n",
        "#  writer.add_scalar('DLN', myloss, epoch)\n",
        "\n",
        "\n",
        "for epoch in range(nepochs):\n",
        "#for epoch in range(nepochs):\n",
        "  # build computation graph\n",
        "  yhat_transp = model_convex( mydata_tran.x )\n",
        "  myloss2=l2_loss(mydata_tran.y, yhat_transp  )\n",
        "  Convex_loss[epoch] = myloss2\n",
        "    # optimizatin\n",
        "  optimizer_convex.zero_grad() # zero out gradient\n",
        "  myloss2.backward() # back propagation\n",
        "  optimizer_convex.step() # updata parameters\n",
        "#  print(myloss2)\n",
        "#  writer.add_scalar('Convex', myloss2, epoch)\n",
        "\n",
        "#writer.flush()\n",
        "#writer.close()\n",
        "\n",
        "#%tensorboard --logdir=logs1"
      ],
      "metadata": {
        "id": "WUjc7IjfFgzd"
      },
      "execution_count": null,
      "outputs": []
    },
    {
      "cell_type": "markdown",
      "source": [
        "# 6. plot"
      ],
      "metadata": {
        "id": "XhyREGWNFj6m"
      }
    },
    {
      "cell_type": "code",
      "source": [
        "import matplotlib.pyplot as plt\n",
        "plt.plot(DLN_loss)\n",
        "\n",
        "plt.plot(DLN_loss, color='r', label='DLN')\n",
        "plt.plot(Convex_loss, color='g', label='Convex')\n",
        "\n",
        "# Naming the x-axis, y-axis and the whole graph\n",
        "plt.xlabel(\"nepochs\")\n",
        "plt.ylabel(\"Loss\")\n",
        "#plt.title(f'Loss function for network {Layers} and convex problem')\n",
        "plt.title(f'Loss function for deep linear network and convex problem')\n",
        "\n",
        "\n",
        "# Adding legend, which helps us recognize the curve according to it's color\n",
        "plt.legend()\n",
        "\n",
        "# To load the display window\n",
        "plt.show()\n"
      ],
      "metadata": {
        "colab": {
          "base_uri": "https://localhost:8080/",
          "height": 295
        },
        "id": "WN9L5nBWFlNc",
        "outputId": "0f024994-fb72-475f-b945-b1b60db3d0f5"
      },
      "execution_count": null,
      "outputs": [
        {
          "output_type": "display_data",
          "data": {
            "text/plain": [
              "<Figure size 432x288 with 1 Axes>"
            ],
            "image/png": "[encoded data removed]"
          },
          "metadata": {
            "needs_background": "light"
          }
        }
      ]
    }
  ]
}